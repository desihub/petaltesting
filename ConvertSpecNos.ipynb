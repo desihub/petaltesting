{
 "cells": [
  {
   "cell_type": "markdown",
   "metadata": {},
   "source": [
    "# Upload Slit IDs to PosFidSpecID Map"
   ]
  },
  {
   "cell_type": "code",
   "execution_count": 2,
   "metadata": {
    "collapsed": true
   },
   "outputs": [],
   "source": [
    "import numpy as np\n",
    "import pandas as pd"
   ]
  },
  {
   "cell_type": "code",
   "execution_count": 3,
   "metadata": {
    "collapsed": true
   },
   "outputs": [],
   "source": [
    "import gspread\n",
    "from oauth2client.service_account import ServiceAccountCredentials\n",
    "from gspread_dataframe import get_as_dataframe"
   ]
  },
  {
   "cell_type": "markdown",
   "metadata": {},
   "source": [
    "### Need to download the P#_SC#_mappingFRDverified.csv for the Petal you are updating and type it in below"
   ]
  },
  {
   "cell_type": "code",
   "execution_count": 4,
   "metadata": {
    "collapsed": false
   },
   "outputs": [
    {
     "name": "stderr",
     "output_type": "stream",
     "text": [
      "/Users/parkerf/anaconda3/lib/python3.5/site-packages/ipykernel/__main__.py:1: FutureWarning: from_csv is deprecated. Please use read_csv(...) instead. Note that some of the default arguments are different, so please refer to the documentation for from_csv when changing your function calls\n",
      "  if __name__ == '__main__':\n"
     ]
    }
   ],
   "source": [
    "df = pd.DataFrame.from_csv('P2_SC0_mappingFRDverified.csv')"
   ]
  },
  {
   "cell_type": "code",
   "execution_count": 5,
   "metadata": {
    "collapsed": false
   },
   "outputs": [],
   "source": [
    "#Get these as lists because they are easier to manipulate\n",
    "sbf = np.array(df['slit block:fiber num'])\n",
    "slit = np.array(df['Cable ID'])"
   ]
  },
  {
   "cell_type": "code",
   "execution_count": 6,
   "metadata": {
    "collapsed": false
   },
   "outputs": [],
   "source": [
    "# Split the slit block and fiber number and label them with 'B' and 'F'\n",
    "sb = []\n",
    "sf = []\n",
    "for f in sbf:\n",
    "    if f == 'DEAD':\n",
    "        sb.append(\"None\")\n",
    "        sf.append(\"None\")\n",
    "    else:\n",
    "        sb.append('B'+(f.split(\":\")[0]).zfill(2))\n",
    "        sf.append('F'+(f.split(\":\")[1]).zfill(2))"
   ]
  },
  {
   "cell_type": "code",
   "execution_count": 7,
   "metadata": {
    "collapsed": false
   },
   "outputs": [],
   "source": [
    "df['SLITBLOCK_ID'] = sb\n",
    "df['BLOCKFIBER_ID'] = sf"
   ]
  },
  {
   "cell_type": "code",
   "execution_count": 8,
   "metadata": {
    "collapsed": true
   },
   "outputs": [],
   "source": [
    "#Make the slit id into a single number\n",
    "ss = [int(x[-1]) for x in slit]\n",
    "df['SLIT_ID'] = ss"
   ]
  },
  {
   "cell_type": "markdown",
   "metadata": {},
   "source": [
    "## Upload data to google sheet"
   ]
  },
  {
   "cell_type": "code",
   "execution_count": 9,
   "metadata": {
    "collapsed": true
   },
   "outputs": [],
   "source": [
    "data = df.to_records()"
   ]
  },
  {
   "cell_type": "code",
   "execution_count": null,
   "metadata": {
    "collapsed": true
   },
   "outputs": [],
   "source": [
    "## Update Petal No.\n",
    "PETAL = 2"
   ]
  },
  {
   "cell_type": "code",
   "execution_count": 12,
   "metadata": {
    "collapsed": false
   },
   "outputs": [],
   "source": [
    "url = 'https://docs.google.com/spreadsheets/d/1lJ9GjhUUsK2SIvXeerpGW7664OFKQWAlPqpgxgevvl8/edit#gid=0'\n",
    "credentials = 'google_access_account.json'\n",
    "scope = ['https://spreadsheets.google.com/feeds', 'https://spreadsheets.google.com/feeds', 'https://www.googleapis.com/auth/drive']\n",
    "creds = ServiceAccountCredentials.from_json_keyfile_name(credentials, scope)\n",
    "client = gspread.authorize(creds)\n",
    "sheet = client.open_by_url(url).sheet1\n",
    "df  = get_as_dataframe(sheet, parse_dates=True, usecols=[0,1,2,3,4,6,8,14], skiprows=20, header=0)\n",
    "dd = df.to_records(index=False)\n",
    "dd = dd[dd['PETAL_ID'] == int(PETAL)]\n",
    "#map = df.loc[df['PETAL_ID'].isin([int(2)])]     "
   ]
  },
  {
   "cell_type": "code",
   "execution_count": 17,
   "metadata": {
    "collapsed": false
   },
   "outputs": [],
   "source": [
    "for d in data: \n",
    "    hole = float(d['DEVICE_LOC'])\n",
    "    rowID = sheet.find(dd[dd['DEVICE_LOC']==hole]['FULL_SI_ID'][0]).row\n",
    "    sheet.update_cell(rowID, 11, str(d['SLIT_ID']))\n",
    "    sheet.update_cell(rowID, 12, d['SLITBLOCK_ID'])\n",
    "    sheet.update_cell(rowID, 13, d['BLOCKFIBER_ID'])"
   ]
  },
  {
   "cell_type": "code",
   "execution_count": null,
   "metadata": {
    "collapsed": true
   },
   "outputs": [],
   "source": []
  }
 ],
 "metadata": {
  "anaconda-cloud": {},
  "kernelspec": {
   "display_name": "Python [conda root]",
   "language": "python",
   "name": "conda-root-py"
  }
 },
 "nbformat": 4,
 "nbformat_minor": 1
}
